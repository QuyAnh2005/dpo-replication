{
 "cells": [
  {
   "cell_type": "code",
   "execution_count": 1,
   "id": "413abca0",
   "metadata": {},
   "outputs": [],
   "source": [
    "import os\n",
    "import json"
   ]
  },
  {
   "cell_type": "markdown",
   "id": "595cb21b",
   "metadata": {},
   "source": [
    "# DPO in Training"
   ]
  },
  {
   "cell_type": "code",
   "execution_count": 2,
   "id": "5065d994",
   "metadata": {},
   "outputs": [
    {
     "name": "stdout",
     "output_type": "stream",
     "text": [
      "{0.7: {'steps': (100, 500, 1000, 1500, 2000, 2500, 3000, 3500, 4000, 4500, 5000, 5500, 6000, 6500, 7000, 7500, 8000), 'winrates': (40.666666666666664, 42.66666666666667, 44.666666666666664, 44.0, 40.0, 42.66666666666667, 51.33333333333333, 46.0, 48.66666666666667, 48.66666666666667, 56.666666666666664, 50.0, 52.666666666666664, 54.666666666666664, 56.666666666666664, 57.333333333333336, 56.666666666666664)}, 1.0: {'steps': (100, 500, 1000, 1500, 2000, 2500, 3000, 3500, 4000, 4500, 5000, 5500, 6000, 6500, 7000, 7500, 8000), 'winrates': (46.666666666666664, 56.666666666666664, 53.333333333333336, 54.0, 51.33333333333333, 55.333333333333336, 51.33333333333333, 46.0, 51.33333333333333, 52.0, 50.66666666666667, 49.333333333333336, 52.666666666666664, 58.666666666666664, 51.33333333333333, 51.33333333333333, 53.333333333333336)}}\n"
     ]
    }
   ],
   "source": [
    "DIR = \"../eval_dpo_training\"\n",
    "\n",
    "files = os.listdir(DIR)\n",
    "temperatures = [0.7, 1.0]\n",
    "data_dict = {}\n",
    "\n",
    "for temperature in temperatures:\n",
    "    steps = []\n",
    "    winrates = []\n",
    "    for file in files:\n",
    "        # Ignore non-json files\n",
    "        if not file.endswith(\".json\"):\n",
    "            continue\n",
    "\n",
    "        # Get the temperature from the file name, e.g. eval_dpo_step_100_temp_0.7_20250823_172153_20251024_100637.json\n",
    "        temp = float(file.split(\"_\")[5])\n",
    "        if temp == temperature:\n",
    "            # Get step from file name, e.g. eval_dpo_step_100_temp_0.7_20250823_172153_20251024_100637.json\n",
    "            step = int(file.split(\"_\")[3])\n",
    "            steps.append(step)\n",
    "\n",
    "            # Load the json file\n",
    "            with open(os.path.join(DIR, file), \"r\") as f:\n",
    "                data = json.load(f)\n",
    "                \n",
    "            # Load component data\n",
    "            metadata = data[\"metadata\"]\n",
    "            winrate = data[\"winrates\"][\"model_winrate\"]\n",
    "            winrates.append(winrate)\n",
    "    \n",
    "    # Sort steps and winrates by steps\n",
    "    steps, winrates = zip(*sorted(zip(steps, winrates)))\n",
    "\n",
    "    data_dict[temperature] = {\n",
    "        \"steps\": steps,\n",
    "        \"winrates\": winrates\n",
    "    }\n",
    "\n",
    "\n",
    "print(data_dict)"
   ]
  },
  {
   "cell_type": "code",
   "execution_count": 3,
   "id": "68e77dce",
   "metadata": {},
   "outputs": [
    {
     "data": {
      "application/vnd.plotly.v1+json": {
       "config": {
        "plotlyServerURL": "https://plot.ly"
       },
       "data": [
        {
         "line": {
          "width": 2
         },
         "marker": {
          "size": 8
         },
         "mode": "lines+markers",
         "name": "Temperature 0.7",
         "type": "scatter",
         "x": [
          100,
          500,
          1000,
          1500,
          2000,
          2500,
          3000,
          3500,
          4000,
          4500,
          5000,
          5500,
          6000,
          6500,
          7000,
          7500,
          8000
         ],
         "y": [
          40.666666666666664,
          42.66666666666667,
          44.666666666666664,
          44,
          40,
          42.66666666666667,
          51.33333333333333,
          46,
          48.66666666666667,
          48.66666666666667,
          56.666666666666664,
          50,
          52.666666666666664,
          54.666666666666664,
          56.666666666666664,
          57.333333333333336,
          56.666666666666664
         ]
        },
        {
         "line": {
          "width": 2
         },
         "marker": {
          "size": 8
         },
         "mode": "lines+markers",
         "name": "Temperature 1.0",
         "type": "scatter",
         "x": [
          100,
          500,
          1000,
          1500,
          2000,
          2500,
          3000,
          3500,
          4000,
          4500,
          5000,
          5500,
          6000,
          6500,
          7000,
          7500,
          8000
         ],
         "y": [
          46.666666666666664,
          56.666666666666664,
          53.333333333333336,
          54,
          51.33333333333333,
          55.333333333333336,
          51.33333333333333,
          46,
          51.33333333333333,
          52,
          50.66666666666667,
          49.333333333333336,
          52.666666666666664,
          58.666666666666664,
          51.33333333333333,
          51.33333333333333,
          53.333333333333336
         ]
        }
       ],
       "layout": {
        "font": {
         "size": 12
        },
        "height": 600,
        "hovermode": "x unified",
        "legend": {
         "title": {
          "text": "Temperature"
         }
        },
        "template": {
         "data": {
          "bar": [
           {
            "error_x": {
             "color": "#2a3f5f"
            },
            "error_y": {
             "color": "#2a3f5f"
            },
            "marker": {
             "line": {
              "color": "white",
              "width": 0.5
             },
             "pattern": {
              "fillmode": "overlay",
              "size": 10,
              "solidity": 0.2
             }
            },
            "type": "bar"
           }
          ],
          "barpolar": [
           {
            "marker": {
             "line": {
              "color": "white",
              "width": 0.5
             },
             "pattern": {
              "fillmode": "overlay",
              "size": 10,
              "solidity": 0.2
             }
            },
            "type": "barpolar"
           }
          ],
          "carpet": [
           {
            "aaxis": {
             "endlinecolor": "#2a3f5f",
             "gridcolor": "#C8D4E3",
             "linecolor": "#C8D4E3",
             "minorgridcolor": "#C8D4E3",
             "startlinecolor": "#2a3f5f"
            },
            "baxis": {
             "endlinecolor": "#2a3f5f",
             "gridcolor": "#C8D4E3",
             "linecolor": "#C8D4E3",
             "minorgridcolor": "#C8D4E3",
             "startlinecolor": "#2a3f5f"
            },
            "type": "carpet"
           }
          ],
          "choropleth": [
           {
            "colorbar": {
             "outlinewidth": 0,
             "ticks": ""
            },
            "type": "choropleth"
           }
          ],
          "contour": [
           {
            "colorbar": {
             "outlinewidth": 0,
             "ticks": ""
            },
            "colorscale": [
             [
              0,
              "#0d0887"
             ],
             [
              0.1111111111111111,
              "#46039f"
             ],
             [
              0.2222222222222222,
              "#7201a8"
             ],
             [
              0.3333333333333333,
              "#9c179e"
             ],
             [
              0.4444444444444444,
              "#bd3786"
             ],
             [
              0.5555555555555556,
              "#d8576b"
             ],
             [
              0.6666666666666666,
              "#ed7953"
             ],
             [
              0.7777777777777778,
              "#fb9f3a"
             ],
             [
              0.8888888888888888,
              "#fdca26"
             ],
             [
              1,
              "#f0f921"
             ]
            ],
            "type": "contour"
           }
          ],
          "contourcarpet": [
           {
            "colorbar": {
             "outlinewidth": 0,
             "ticks": ""
            },
            "type": "contourcarpet"
           }
          ],
          "heatmap": [
           {
            "colorbar": {
             "outlinewidth": 0,
             "ticks": ""
            },
            "colorscale": [
             [
              0,
              "#0d0887"
             ],
             [
              0.1111111111111111,
              "#46039f"
             ],
             [
              0.2222222222222222,
              "#7201a8"
             ],
             [
              0.3333333333333333,
              "#9c179e"
             ],
             [
              0.4444444444444444,
              "#bd3786"
             ],
             [
              0.5555555555555556,
              "#d8576b"
             ],
             [
              0.6666666666666666,
              "#ed7953"
             ],
             [
              0.7777777777777778,
              "#fb9f3a"
             ],
             [
              0.8888888888888888,
              "#fdca26"
             ],
             [
              1,
              "#f0f921"
             ]
            ],
            "type": "heatmap"
           }
          ],
          "histogram": [
           {
            "marker": {
             "pattern": {
              "fillmode": "overlay",
              "size": 10,
              "solidity": 0.2
             }
            },
            "type": "histogram"
           }
          ],
          "histogram2d": [
           {
            "colorbar": {
             "outlinewidth": 0,
             "ticks": ""
            },
            "colorscale": [
             [
              0,
              "#0d0887"
             ],
             [
              0.1111111111111111,
              "#46039f"
             ],
             [
              0.2222222222222222,
              "#7201a8"
             ],
             [
              0.3333333333333333,
              "#9c179e"
             ],
             [
              0.4444444444444444,
              "#bd3786"
             ],
             [
              0.5555555555555556,
              "#d8576b"
             ],
             [
              0.6666666666666666,
              "#ed7953"
             ],
             [
              0.7777777777777778,
              "#fb9f3a"
             ],
             [
              0.8888888888888888,
              "#fdca26"
             ],
             [
              1,
              "#f0f921"
             ]
            ],
            "type": "histogram2d"
           }
          ],
          "histogram2dcontour": [
           {
            "colorbar": {
             "outlinewidth": 0,
             "ticks": ""
            },
            "colorscale": [
             [
              0,
              "#0d0887"
             ],
             [
              0.1111111111111111,
              "#46039f"
             ],
             [
              0.2222222222222222,
              "#7201a8"
             ],
             [
              0.3333333333333333,
              "#9c179e"
             ],
             [
              0.4444444444444444,
              "#bd3786"
             ],
             [
              0.5555555555555556,
              "#d8576b"
             ],
             [
              0.6666666666666666,
              "#ed7953"
             ],
             [
              0.7777777777777778,
              "#fb9f3a"
             ],
             [
              0.8888888888888888,
              "#fdca26"
             ],
             [
              1,
              "#f0f921"
             ]
            ],
            "type": "histogram2dcontour"
           }
          ],
          "mesh3d": [
           {
            "colorbar": {
             "outlinewidth": 0,
             "ticks": ""
            },
            "type": "mesh3d"
           }
          ],
          "parcoords": [
           {
            "line": {
             "colorbar": {
              "outlinewidth": 0,
              "ticks": ""
             }
            },
            "type": "parcoords"
           }
          ],
          "pie": [
           {
            "automargin": true,
            "type": "pie"
           }
          ],
          "scatter": [
           {
            "fillpattern": {
             "fillmode": "overlay",
             "size": 10,
             "solidity": 0.2
            },
            "type": "scatter"
           }
          ],
          "scatter3d": [
           {
            "line": {
             "colorbar": {
              "outlinewidth": 0,
              "ticks": ""
             }
            },
            "marker": {
             "colorbar": {
              "outlinewidth": 0,
              "ticks": ""
             }
            },
            "type": "scatter3d"
           }
          ],
          "scattercarpet": [
           {
            "marker": {
             "colorbar": {
              "outlinewidth": 0,
              "ticks": ""
             }
            },
            "type": "scattercarpet"
           }
          ],
          "scattergeo": [
           {
            "marker": {
             "colorbar": {
              "outlinewidth": 0,
              "ticks": ""
             }
            },
            "type": "scattergeo"
           }
          ],
          "scattergl": [
           {
            "marker": {
             "colorbar": {
              "outlinewidth": 0,
              "ticks": ""
             }
            },
            "type": "scattergl"
           }
          ],
          "scattermap": [
           {
            "marker": {
             "colorbar": {
              "outlinewidth": 0,
              "ticks": ""
             }
            },
            "type": "scattermap"
           }
          ],
          "scattermapbox": [
           {
            "marker": {
             "colorbar": {
              "outlinewidth": 0,
              "ticks": ""
             }
            },
            "type": "scattermapbox"
           }
          ],
          "scatterpolar": [
           {
            "marker": {
             "colorbar": {
              "outlinewidth": 0,
              "ticks": ""
             }
            },
            "type": "scatterpolar"
           }
          ],
          "scatterpolargl": [
           {
            "marker": {
             "colorbar": {
              "outlinewidth": 0,
              "ticks": ""
             }
            },
            "type": "scatterpolargl"
           }
          ],
          "scatterternary": [
           {
            "marker": {
             "colorbar": {
              "outlinewidth": 0,
              "ticks": ""
             }
            },
            "type": "scatterternary"
           }
          ],
          "surface": [
           {
            "colorbar": {
             "outlinewidth": 0,
             "ticks": ""
            },
            "colorscale": [
             [
              0,
              "#0d0887"
             ],
             [
              0.1111111111111111,
              "#46039f"
             ],
             [
              0.2222222222222222,
              "#7201a8"
             ],
             [
              0.3333333333333333,
              "#9c179e"
             ],
             [
              0.4444444444444444,
              "#bd3786"
             ],
             [
              0.5555555555555556,
              "#d8576b"
             ],
             [
              0.6666666666666666,
              "#ed7953"
             ],
             [
              0.7777777777777778,
              "#fb9f3a"
             ],
             [
              0.8888888888888888,
              "#fdca26"
             ],
             [
              1,
              "#f0f921"
             ]
            ],
            "type": "surface"
           }
          ],
          "table": [
           {
            "cells": {
             "fill": {
              "color": "#EBF0F8"
             },
             "line": {
              "color": "white"
             }
            },
            "header": {
             "fill": {
              "color": "#C8D4E3"
             },
             "line": {
              "color": "white"
             }
            },
            "type": "table"
           }
          ]
         },
         "layout": {
          "annotationdefaults": {
           "arrowcolor": "#2a3f5f",
           "arrowhead": 0,
           "arrowwidth": 1
          },
          "autotypenumbers": "strict",
          "coloraxis": {
           "colorbar": {
            "outlinewidth": 0,
            "ticks": ""
           }
          },
          "colorscale": {
           "diverging": [
            [
             0,
             "#8e0152"
            ],
            [
             0.1,
             "#c51b7d"
            ],
            [
             0.2,
             "#de77ae"
            ],
            [
             0.3,
             "#f1b6da"
            ],
            [
             0.4,
             "#fde0ef"
            ],
            [
             0.5,
             "#f7f7f7"
            ],
            [
             0.6,
             "#e6f5d0"
            ],
            [
             0.7,
             "#b8e186"
            ],
            [
             0.8,
             "#7fbc41"
            ],
            [
             0.9,
             "#4d9221"
            ],
            [
             1,
             "#276419"
            ]
           ],
           "sequential": [
            [
             0,
             "#0d0887"
            ],
            [
             0.1111111111111111,
             "#46039f"
            ],
            [
             0.2222222222222222,
             "#7201a8"
            ],
            [
             0.3333333333333333,
             "#9c179e"
            ],
            [
             0.4444444444444444,
             "#bd3786"
            ],
            [
             0.5555555555555556,
             "#d8576b"
            ],
            [
             0.6666666666666666,
             "#ed7953"
            ],
            [
             0.7777777777777778,
             "#fb9f3a"
            ],
            [
             0.8888888888888888,
             "#fdca26"
            ],
            [
             1,
             "#f0f921"
            ]
           ],
           "sequentialminus": [
            [
             0,
             "#0d0887"
            ],
            [
             0.1111111111111111,
             "#46039f"
            ],
            [
             0.2222222222222222,
             "#7201a8"
            ],
            [
             0.3333333333333333,
             "#9c179e"
            ],
            [
             0.4444444444444444,
             "#bd3786"
            ],
            [
             0.5555555555555556,
             "#d8576b"
            ],
            [
             0.6666666666666666,
             "#ed7953"
            ],
            [
             0.7777777777777778,
             "#fb9f3a"
            ],
            [
             0.8888888888888888,
             "#fdca26"
            ],
            [
             1,
             "#f0f921"
            ]
           ]
          },
          "colorway": [
           "#636efa",
           "#EF553B",
           "#00cc96",
           "#ab63fa",
           "#FFA15A",
           "#19d3f3",
           "#FF6692",
           "#B6E880",
           "#FF97FF",
           "#FECB52"
          ],
          "font": {
           "color": "#2a3f5f"
          },
          "geo": {
           "bgcolor": "white",
           "lakecolor": "white",
           "landcolor": "white",
           "showlakes": true,
           "showland": true,
           "subunitcolor": "#C8D4E3"
          },
          "hoverlabel": {
           "align": "left"
          },
          "hovermode": "closest",
          "mapbox": {
           "style": "light"
          },
          "paper_bgcolor": "white",
          "plot_bgcolor": "white",
          "polar": {
           "angularaxis": {
            "gridcolor": "#EBF0F8",
            "linecolor": "#EBF0F8",
            "ticks": ""
           },
           "bgcolor": "white",
           "radialaxis": {
            "gridcolor": "#EBF0F8",
            "linecolor": "#EBF0F8",
            "ticks": ""
           }
          },
          "scene": {
           "xaxis": {
            "backgroundcolor": "white",
            "gridcolor": "#DFE8F3",
            "gridwidth": 2,
            "linecolor": "#EBF0F8",
            "showbackground": true,
            "ticks": "",
            "zerolinecolor": "#EBF0F8"
           },
           "yaxis": {
            "backgroundcolor": "white",
            "gridcolor": "#DFE8F3",
            "gridwidth": 2,
            "linecolor": "#EBF0F8",
            "showbackground": true,
            "ticks": "",
            "zerolinecolor": "#EBF0F8"
           },
           "zaxis": {
            "backgroundcolor": "white",
            "gridcolor": "#DFE8F3",
            "gridwidth": 2,
            "linecolor": "#EBF0F8",
            "showbackground": true,
            "ticks": "",
            "zerolinecolor": "#EBF0F8"
           }
          },
          "shapedefaults": {
           "line": {
            "color": "#2a3f5f"
           }
          },
          "ternary": {
           "aaxis": {
            "gridcolor": "#DFE8F3",
            "linecolor": "#A2B1C6",
            "ticks": ""
           },
           "baxis": {
            "gridcolor": "#DFE8F3",
            "linecolor": "#A2B1C6",
            "ticks": ""
           },
           "bgcolor": "white",
           "caxis": {
            "gridcolor": "#DFE8F3",
            "linecolor": "#A2B1C6",
            "ticks": ""
           }
          },
          "title": {
           "x": 0.05
          },
          "xaxis": {
           "automargin": true,
           "gridcolor": "#EBF0F8",
           "linecolor": "#EBF0F8",
           "ticks": "",
           "title": {
            "standoff": 15
           },
           "zerolinecolor": "#EBF0F8",
           "zerolinewidth": 2
          },
          "yaxis": {
           "automargin": true,
           "gridcolor": "#EBF0F8",
           "linecolor": "#EBF0F8",
           "ticks": "",
           "title": {
            "standoff": 15
           },
           "zerolinecolor": "#EBF0F8",
           "zerolinewidth": 2
          }
         }
        },
        "title": {
         "text": "Model Winrate vs Training Steps"
        },
        "width": 1000,
        "xaxis": {
         "gridcolor": "lightgray",
         "gridwidth": 1,
         "showgrid": true,
         "title": {
          "text": "Training Steps"
         }
        },
        "yaxis": {
         "gridcolor": "lightgray",
         "gridwidth": 1,
         "showgrid": true,
         "title": {
          "text": "Winrate (%)"
         }
        }
       }
      }
     },
     "metadata": {},
     "output_type": "display_data"
    }
   ],
   "source": [
    "import plotly.graph_objects as go\n",
    "import plotly.express as px\n",
    "\n",
    "# Create figure\n",
    "fig = go.Figure()\n",
    "\n",
    "data = data_dict\n",
    "# Add traces for each temperature\n",
    "for temperature, values in data.items():\n",
    "    fig.add_trace(go.Scatter(\n",
    "        x=values['steps'],\n",
    "        y=values['winrates'],\n",
    "        mode='lines+markers',\n",
    "        name=f'Temperature {temperature}',\n",
    "        line=dict(width=2),\n",
    "        marker=dict(size=8)\n",
    "    ))\n",
    "\n",
    "# Update layout\n",
    "fig.update_layout(\n",
    "    title='Model Winrate vs Training Steps',\n",
    "    xaxis_title='Training Steps',\n",
    "    yaxis_title='Winrate (%)',\n",
    "    legend_title='Temperature',\n",
    "    hovermode='x unified',\n",
    "    template='plotly_white',\n",
    "    width=1000,\n",
    "    height=600,\n",
    "    font=dict(size=12)\n",
    ")\n",
    "\n",
    "# Add grid\n",
    "fig.update_xaxes(showgrid=True, gridwidth=1, gridcolor='lightgray')\n",
    "fig.update_yaxes(showgrid=True, gridwidth=1, gridcolor='lightgray')\n",
    "\n",
    "# Show the plot\n",
    "fig.show()\n",
    "\n",
    "# Save the plot to pdf\n",
    "# os.makedirs(\"plots\", exist_ok=True)\n",
    "# fig.write_pdf(file=f'plots/model_winrate_vs_training_steps.pdf')"
   ]
  },
  {
   "cell_type": "markdown",
   "id": "222246bf",
   "metadata": {},
   "source": [
    "# Baselines"
   ]
  },
  {
   "cell_type": "code",
   "execution_count": 4,
   "id": "7b8383fd",
   "metadata": {},
   "outputs": [
    {
     "name": "stdout",
     "output_type": "stream",
     "text": [
      "{'pythia-2.8b-sft-1.0': {'temperature': 1.0, 'winrate': 46.0}, 'pythia-2.8b-base-0.25': {'temperature': 0.25, 'winrate': 22.0}, 'pythia-2.8b-sft-0.5': {'temperature': 0.5, 'winrate': 34.0}, 'pythia-2.8b-base-1.0': {'temperature': 1.0, 'winrate': 29.333333333333332}, 'pythia-2.8b-sft-0.75': {'temperature': 0.75, 'winrate': 46.666666666666664}, 'pythia-2.8b-dpo-0.25': {'temperature': 0.25, 'winrate': 25.333333333333336}, 'pythia-2.8b-base-0.5': {'temperature': 0.5, 'winrate': 27.333333333333332}, 'pythia-2.8b-sft-0.25': {'temperature': 0.25, 'winrate': 29.333333333333332}, 'pythia-2.8b-base-0.75': {'temperature': 0.75, 'winrate': 29.333333333333332}, 'pythia-2.8b-dpo-1.0': {'temperature': 1.0, 'winrate': 57.99999999999999}, 'pythia-2.8b-dpo-0.5': {'temperature': 0.5, 'winrate': 64.0}, 'pythia-2.8b-dpo-0.75': {'temperature': 0.75, 'winrate': 52.666666666666664}}\n"
     ]
    }
   ],
   "source": [
    "DIR = \"../eval_baselines\"\n",
    "\n",
    "files = os.listdir(DIR)\n",
    "\n",
    "data_dict = {}\n",
    "\n",
    "for file in files:\n",
    "    if not file.endswith(\".json\"):\n",
    "        continue\n",
    "\n",
    "    # Get name from file, e.g. eval_pythia-2.8b-base-0.5_20251024_092244_20251024_121009.json -> pythia-2.8b-base\n",
    "    name = file.split(\"_\")[1]\n",
    "\n",
    "    # Open the json file\n",
    "    with open(os.path.join(DIR, file), \"r\") as f:\n",
    "        data = json.load(f)\n",
    "\n",
    "    metadata = data[\"metadata\"]\n",
    "    temperature = metadata[\"temperature\"]\n",
    "    winrate = data[\"winrates\"][\"model_winrate\"]\n",
    "    \n",
    "    data_dict[name] = {\n",
    "        \"temperature\": temperature,\n",
    "        \"winrate\": winrate\n",
    "    }\n",
    "\n",
    "print(data_dict)\n",
    "\n",
    "    "
   ]
  },
  {
   "cell_type": "code",
   "execution_count": 6,
   "id": "fe03c456",
   "metadata": {},
   "outputs": [
    {
     "data": {
      "application/vnd.plotly.v1+json": {
       "config": {
        "plotlyServerURL": "https://plot.ly"
       },
       "data": [
        {
         "hovertemplate": "<b>Temperature:</b> %{x}<br><b>Winrate:</b> %{y:.2f}%<extra></extra>",
         "line": {
          "color": "#636EFA",
          "width": 3
         },
         "marker": {
          "line": {
           "color": "white",
           "width": 2
          },
          "size": 12
         },
         "mode": "lines+markers",
         "name": "Pythia-2.8B (Base)",
         "type": "scatter",
         "x": [
          0.25,
          0.5,
          0.75,
          1
         ],
         "y": [
          22,
          27.333333333333332,
          29.333333333333332,
          29.333333333333332
         ]
        },
        {
         "hovertemplate": "<b>Temperature:</b> %{x}<br><b>Winrate:</b> %{y:.2f}%<extra></extra>",
         "line": {
          "color": "#EF553B",
          "width": 3
         },
         "marker": {
          "line": {
           "color": "white",
           "width": 2
          },
          "size": 12
         },
         "mode": "lines+markers",
         "name": "Preferred-FT (SFT)",
         "type": "scatter",
         "x": [
          0.25,
          0.5,
          0.75,
          1
         ],
         "y": [
          29.333333333333332,
          34,
          46.666666666666664,
          46
         ]
        },
        {
         "hovertemplate": "<b>Temperature:</b> %{x}<br><b>Winrate:</b> %{y:.2f}%<extra></extra>",
         "line": {
          "color": "#00CC96",
          "width": 3
         },
         "marker": {
          "line": {
           "color": "white",
           "width": 2
          },
          "size": 12
         },
         "mode": "lines+markers",
         "name": "DPO",
         "type": "scatter",
         "x": [
          0.25,
          0.5,
          0.75,
          1
         ],
         "y": [
          25.333333333333336,
          64,
          52.666666666666664,
          57.99999999999999
         ]
        }
       ],
       "layout": {
        "font": {
         "size": 12
        },
        "height": 600,
        "hovermode": "x unified",
        "legend": {
         "bgcolor": "rgba(255, 255, 255, 0.8)",
         "bordercolor": "lightgray",
         "borderwidth": 1,
         "font": {
          "size": 12
         },
         "orientation": "v",
         "title": {
          "text": "Model"
         },
         "x": 0.98,
         "xanchor": "right",
         "y": 0.98,
         "yanchor": "top"
        },
        "template": {
         "data": {
          "bar": [
           {
            "error_x": {
             "color": "#2a3f5f"
            },
            "error_y": {
             "color": "#2a3f5f"
            },
            "marker": {
             "line": {
              "color": "white",
              "width": 0.5
             },
             "pattern": {
              "fillmode": "overlay",
              "size": 10,
              "solidity": 0.2
             }
            },
            "type": "bar"
           }
          ],
          "barpolar": [
           {
            "marker": {
             "line": {
              "color": "white",
              "width": 0.5
             },
             "pattern": {
              "fillmode": "overlay",
              "size": 10,
              "solidity": 0.2
             }
            },
            "type": "barpolar"
           }
          ],
          "carpet": [
           {
            "aaxis": {
             "endlinecolor": "#2a3f5f",
             "gridcolor": "#C8D4E3",
             "linecolor": "#C8D4E3",
             "minorgridcolor": "#C8D4E3",
             "startlinecolor": "#2a3f5f"
            },
            "baxis": {
             "endlinecolor": "#2a3f5f",
             "gridcolor": "#C8D4E3",
             "linecolor": "#C8D4E3",
             "minorgridcolor": "#C8D4E3",
             "startlinecolor": "#2a3f5f"
            },
            "type": "carpet"
           }
          ],
          "choropleth": [
           {
            "colorbar": {
             "outlinewidth": 0,
             "ticks": ""
            },
            "type": "choropleth"
           }
          ],
          "contour": [
           {
            "colorbar": {
             "outlinewidth": 0,
             "ticks": ""
            },
            "colorscale": [
             [
              0,
              "#0d0887"
             ],
             [
              0.1111111111111111,
              "#46039f"
             ],
             [
              0.2222222222222222,
              "#7201a8"
             ],
             [
              0.3333333333333333,
              "#9c179e"
             ],
             [
              0.4444444444444444,
              "#bd3786"
             ],
             [
              0.5555555555555556,
              "#d8576b"
             ],
             [
              0.6666666666666666,
              "#ed7953"
             ],
             [
              0.7777777777777778,
              "#fb9f3a"
             ],
             [
              0.8888888888888888,
              "#fdca26"
             ],
             [
              1,
              "#f0f921"
             ]
            ],
            "type": "contour"
           }
          ],
          "contourcarpet": [
           {
            "colorbar": {
             "outlinewidth": 0,
             "ticks": ""
            },
            "type": "contourcarpet"
           }
          ],
          "heatmap": [
           {
            "colorbar": {
             "outlinewidth": 0,
             "ticks": ""
            },
            "colorscale": [
             [
              0,
              "#0d0887"
             ],
             [
              0.1111111111111111,
              "#46039f"
             ],
             [
              0.2222222222222222,
              "#7201a8"
             ],
             [
              0.3333333333333333,
              "#9c179e"
             ],
             [
              0.4444444444444444,
              "#bd3786"
             ],
             [
              0.5555555555555556,
              "#d8576b"
             ],
             [
              0.6666666666666666,
              "#ed7953"
             ],
             [
              0.7777777777777778,
              "#fb9f3a"
             ],
             [
              0.8888888888888888,
              "#fdca26"
             ],
             [
              1,
              "#f0f921"
             ]
            ],
            "type": "heatmap"
           }
          ],
          "histogram": [
           {
            "marker": {
             "pattern": {
              "fillmode": "overlay",
              "size": 10,
              "solidity": 0.2
             }
            },
            "type": "histogram"
           }
          ],
          "histogram2d": [
           {
            "colorbar": {
             "outlinewidth": 0,
             "ticks": ""
            },
            "colorscale": [
             [
              0,
              "#0d0887"
             ],
             [
              0.1111111111111111,
              "#46039f"
             ],
             [
              0.2222222222222222,
              "#7201a8"
             ],
             [
              0.3333333333333333,
              "#9c179e"
             ],
             [
              0.4444444444444444,
              "#bd3786"
             ],
             [
              0.5555555555555556,
              "#d8576b"
             ],
             [
              0.6666666666666666,
              "#ed7953"
             ],
             [
              0.7777777777777778,
              "#fb9f3a"
             ],
             [
              0.8888888888888888,
              "#fdca26"
             ],
             [
              1,
              "#f0f921"
             ]
            ],
            "type": "histogram2d"
           }
          ],
          "histogram2dcontour": [
           {
            "colorbar": {
             "outlinewidth": 0,
             "ticks": ""
            },
            "colorscale": [
             [
              0,
              "#0d0887"
             ],
             [
              0.1111111111111111,
              "#46039f"
             ],
             [
              0.2222222222222222,
              "#7201a8"
             ],
             [
              0.3333333333333333,
              "#9c179e"
             ],
             [
              0.4444444444444444,
              "#bd3786"
             ],
             [
              0.5555555555555556,
              "#d8576b"
             ],
             [
              0.6666666666666666,
              "#ed7953"
             ],
             [
              0.7777777777777778,
              "#fb9f3a"
             ],
             [
              0.8888888888888888,
              "#fdca26"
             ],
             [
              1,
              "#f0f921"
             ]
            ],
            "type": "histogram2dcontour"
           }
          ],
          "mesh3d": [
           {
            "colorbar": {
             "outlinewidth": 0,
             "ticks": ""
            },
            "type": "mesh3d"
           }
          ],
          "parcoords": [
           {
            "line": {
             "colorbar": {
              "outlinewidth": 0,
              "ticks": ""
             }
            },
            "type": "parcoords"
           }
          ],
          "pie": [
           {
            "automargin": true,
            "type": "pie"
           }
          ],
          "scatter": [
           {
            "fillpattern": {
             "fillmode": "overlay",
             "size": 10,
             "solidity": 0.2
            },
            "type": "scatter"
           }
          ],
          "scatter3d": [
           {
            "line": {
             "colorbar": {
              "outlinewidth": 0,
              "ticks": ""
             }
            },
            "marker": {
             "colorbar": {
              "outlinewidth": 0,
              "ticks": ""
             }
            },
            "type": "scatter3d"
           }
          ],
          "scattercarpet": [
           {
            "marker": {
             "colorbar": {
              "outlinewidth": 0,
              "ticks": ""
             }
            },
            "type": "scattercarpet"
           }
          ],
          "scattergeo": [
           {
            "marker": {
             "colorbar": {
              "outlinewidth": 0,
              "ticks": ""
             }
            },
            "type": "scattergeo"
           }
          ],
          "scattergl": [
           {
            "marker": {
             "colorbar": {
              "outlinewidth": 0,
              "ticks": ""
             }
            },
            "type": "scattergl"
           }
          ],
          "scattermap": [
           {
            "marker": {
             "colorbar": {
              "outlinewidth": 0,
              "ticks": ""
             }
            },
            "type": "scattermap"
           }
          ],
          "scattermapbox": [
           {
            "marker": {
             "colorbar": {
              "outlinewidth": 0,
              "ticks": ""
             }
            },
            "type": "scattermapbox"
           }
          ],
          "scatterpolar": [
           {
            "marker": {
             "colorbar": {
              "outlinewidth": 0,
              "ticks": ""
             }
            },
            "type": "scatterpolar"
           }
          ],
          "scatterpolargl": [
           {
            "marker": {
             "colorbar": {
              "outlinewidth": 0,
              "ticks": ""
             }
            },
            "type": "scatterpolargl"
           }
          ],
          "scatterternary": [
           {
            "marker": {
             "colorbar": {
              "outlinewidth": 0,
              "ticks": ""
             }
            },
            "type": "scatterternary"
           }
          ],
          "surface": [
           {
            "colorbar": {
             "outlinewidth": 0,
             "ticks": ""
            },
            "colorscale": [
             [
              0,
              "#0d0887"
             ],
             [
              0.1111111111111111,
              "#46039f"
             ],
             [
              0.2222222222222222,
              "#7201a8"
             ],
             [
              0.3333333333333333,
              "#9c179e"
             ],
             [
              0.4444444444444444,
              "#bd3786"
             ],
             [
              0.5555555555555556,
              "#d8576b"
             ],
             [
              0.6666666666666666,
              "#ed7953"
             ],
             [
              0.7777777777777778,
              "#fb9f3a"
             ],
             [
              0.8888888888888888,
              "#fdca26"
             ],
             [
              1,
              "#f0f921"
             ]
            ],
            "type": "surface"
           }
          ],
          "table": [
           {
            "cells": {
             "fill": {
              "color": "#EBF0F8"
             },
             "line": {
              "color": "white"
             }
            },
            "header": {
             "fill": {
              "color": "#C8D4E3"
             },
             "line": {
              "color": "white"
             }
            },
            "type": "table"
           }
          ]
         },
         "layout": {
          "annotationdefaults": {
           "arrowcolor": "#2a3f5f",
           "arrowhead": 0,
           "arrowwidth": 1
          },
          "autotypenumbers": "strict",
          "coloraxis": {
           "colorbar": {
            "outlinewidth": 0,
            "ticks": ""
           }
          },
          "colorscale": {
           "diverging": [
            [
             0,
             "#8e0152"
            ],
            [
             0.1,
             "#c51b7d"
            ],
            [
             0.2,
             "#de77ae"
            ],
            [
             0.3,
             "#f1b6da"
            ],
            [
             0.4,
             "#fde0ef"
            ],
            [
             0.5,
             "#f7f7f7"
            ],
            [
             0.6,
             "#e6f5d0"
            ],
            [
             0.7,
             "#b8e186"
            ],
            [
             0.8,
             "#7fbc41"
            ],
            [
             0.9,
             "#4d9221"
            ],
            [
             1,
             "#276419"
            ]
           ],
           "sequential": [
            [
             0,
             "#0d0887"
            ],
            [
             0.1111111111111111,
             "#46039f"
            ],
            [
             0.2222222222222222,
             "#7201a8"
            ],
            [
             0.3333333333333333,
             "#9c179e"
            ],
            [
             0.4444444444444444,
             "#bd3786"
            ],
            [
             0.5555555555555556,
             "#d8576b"
            ],
            [
             0.6666666666666666,
             "#ed7953"
            ],
            [
             0.7777777777777778,
             "#fb9f3a"
            ],
            [
             0.8888888888888888,
             "#fdca26"
            ],
            [
             1,
             "#f0f921"
            ]
           ],
           "sequentialminus": [
            [
             0,
             "#0d0887"
            ],
            [
             0.1111111111111111,
             "#46039f"
            ],
            [
             0.2222222222222222,
             "#7201a8"
            ],
            [
             0.3333333333333333,
             "#9c179e"
            ],
            [
             0.4444444444444444,
             "#bd3786"
            ],
            [
             0.5555555555555556,
             "#d8576b"
            ],
            [
             0.6666666666666666,
             "#ed7953"
            ],
            [
             0.7777777777777778,
             "#fb9f3a"
            ],
            [
             0.8888888888888888,
             "#fdca26"
            ],
            [
             1,
             "#f0f921"
            ]
           ]
          },
          "colorway": [
           "#636efa",
           "#EF553B",
           "#00cc96",
           "#ab63fa",
           "#FFA15A",
           "#19d3f3",
           "#FF6692",
           "#B6E880",
           "#FF97FF",
           "#FECB52"
          ],
          "font": {
           "color": "#2a3f5f"
          },
          "geo": {
           "bgcolor": "white",
           "lakecolor": "white",
           "landcolor": "white",
           "showlakes": true,
           "showland": true,
           "subunitcolor": "#C8D4E3"
          },
          "hoverlabel": {
           "align": "left"
          },
          "hovermode": "closest",
          "mapbox": {
           "style": "light"
          },
          "paper_bgcolor": "white",
          "plot_bgcolor": "white",
          "polar": {
           "angularaxis": {
            "gridcolor": "#EBF0F8",
            "linecolor": "#EBF0F8",
            "ticks": ""
           },
           "bgcolor": "white",
           "radialaxis": {
            "gridcolor": "#EBF0F8",
            "linecolor": "#EBF0F8",
            "ticks": ""
           }
          },
          "scene": {
           "xaxis": {
            "backgroundcolor": "white",
            "gridcolor": "#DFE8F3",
            "gridwidth": 2,
            "linecolor": "#EBF0F8",
            "showbackground": true,
            "ticks": "",
            "zerolinecolor": "#EBF0F8"
           },
           "yaxis": {
            "backgroundcolor": "white",
            "gridcolor": "#DFE8F3",
            "gridwidth": 2,
            "linecolor": "#EBF0F8",
            "showbackground": true,
            "ticks": "",
            "zerolinecolor": "#EBF0F8"
           },
           "zaxis": {
            "backgroundcolor": "white",
            "gridcolor": "#DFE8F3",
            "gridwidth": 2,
            "linecolor": "#EBF0F8",
            "showbackground": true,
            "ticks": "",
            "zerolinecolor": "#EBF0F8"
           }
          },
          "shapedefaults": {
           "line": {
            "color": "#2a3f5f"
           }
          },
          "ternary": {
           "aaxis": {
            "gridcolor": "#DFE8F3",
            "linecolor": "#A2B1C6",
            "ticks": ""
           },
           "baxis": {
            "gridcolor": "#DFE8F3",
            "linecolor": "#A2B1C6",
            "ticks": ""
           },
           "bgcolor": "white",
           "caxis": {
            "gridcolor": "#DFE8F3",
            "linecolor": "#A2B1C6",
            "ticks": ""
           }
          },
          "title": {
           "x": 0.05
          },
          "xaxis": {
           "automargin": true,
           "gridcolor": "#EBF0F8",
           "linecolor": "#EBF0F8",
           "ticks": "",
           "title": {
            "standoff": 15
           },
           "zerolinecolor": "#EBF0F8",
           "zerolinewidth": 2
          },
          "yaxis": {
           "automargin": true,
           "gridcolor": "#EBF0F8",
           "linecolor": "#EBF0F8",
           "ticks": "",
           "title": {
            "standoff": 15
           },
           "zerolinecolor": "#EBF0F8",
           "zerolinewidth": 2
          }
         }
        },
        "title": {
         "font": {
          "family": "Arial Black",
          "size": 20
         },
         "text": "Model Winrate vs Temperature",
         "x": 0.5,
         "xanchor": "center"
        },
        "width": 1000,
        "xaxis": {
         "dtick": 0.25,
         "gridcolor": "lightgray",
         "gridwidth": 1,
         "showgrid": true,
         "title": {
          "text": "Temperature"
         }
        },
        "yaxis": {
         "gridcolor": "lightgray",
         "gridwidth": 1,
         "range": [
          10,
          70
         ],
         "showgrid": true,
         "title": {
          "text": "Winrate (%)"
         }
        }
       }
      }
     },
     "metadata": {},
     "output_type": "display_data"
    }
   ],
   "source": [
    "from collections import defaultdict\n",
    "\n",
    "data = data_dict\n",
    "# Organize data by model type\n",
    "model_data = defaultdict(lambda: {'temperatures': [], 'winrates': []})\n",
    "\n",
    "# Model name mapping\n",
    "model_names = {\n",
    "    'base': 'Pythia-2.8B (Base)',\n",
    "    'sft': 'Preferred-FT (SFT)',\n",
    "    'dpo': 'DPO'\n",
    "}\n",
    "\n",
    "# Parse the data\n",
    "for key, values in data.items():\n",
    "    # Extract model type from key\n",
    "    if 'base' in key:\n",
    "        model_type = 'base'\n",
    "    elif 'dpo' in key:\n",
    "        model_type = 'dpo'\n",
    "    elif 'sft' in key:\n",
    "        model_type = 'sft'\n",
    "    else:\n",
    "        continue\n",
    "    \n",
    "    model_data[model_type]['temperatures'].append(values['temperature'])\n",
    "    model_data[model_type]['winrates'].append(values['winrate'])\n",
    "\n",
    "# Sort by temperature for each model\n",
    "for model_type in model_data:\n",
    "    temps = model_data[model_type]['temperatures']\n",
    "    wins = model_data[model_type]['winrates']\n",
    "    # Sort both lists by temperature\n",
    "    sorted_pairs = sorted(zip(temps, wins))\n",
    "    model_data[model_type]['temperatures'] = [t for t, w in sorted_pairs]\n",
    "    model_data[model_type]['winrates'] = [w for t, w in sorted_pairs]\n",
    "\n",
    "# Create figure\n",
    "fig = go.Figure()\n",
    "\n",
    "# Color scheme\n",
    "colors = {\n",
    "    'base': '#636EFA',  # Blue\n",
    "    'sft': '#EF553B',   # Red\n",
    "    'dpo': '#00CC96'    # Green\n",
    "}\n",
    "\n",
    "# Add traces for each model\n",
    "for model_type in ['base', 'sft', 'dpo']:\n",
    "    if model_type in model_data:\n",
    "        fig.add_trace(go.Scatter(\n",
    "            x=model_data[model_type]['temperatures'],\n",
    "            y=model_data[model_type]['winrates'],\n",
    "            mode='lines+markers',\n",
    "            name=model_names[model_type],\n",
    "            line=dict(width=3, color=colors[model_type]),\n",
    "            marker=dict(size=12, line=dict(width=2, color='white')),\n",
    "            hovertemplate='<b>Temperature:</b> %{x}<br><b>Winrate:</b> %{y:.2f}%<extra></extra>'\n",
    "        ))\n",
    "\n",
    "# Update layout\n",
    "fig.update_layout(\n",
    "    title=dict(\n",
    "        text='Model Winrate vs Temperature',\n",
    "        x=0.5,\n",
    "        xanchor='center',\n",
    "        font=dict(size=20, family='Arial Black')\n",
    "    ),\n",
    "    xaxis=dict(\n",
    "        title='Temperature',\n",
    "        showgrid=True,\n",
    "        gridwidth=1,\n",
    "        gridcolor='lightgray',\n",
    "        dtick=0.25  # Show ticks at 0.25, 0.5, 0.75, 1.0\n",
    "    ),\n",
    "    yaxis=dict(\n",
    "        title='Winrate (%)',\n",
    "        showgrid=True,\n",
    "        gridwidth=1,\n",
    "        gridcolor='lightgray',\n",
    "        range=[10, 70]  # Adjust based on your data\n",
    "    ),\n",
    "    legend=dict(\n",
    "        title='Model',\n",
    "        orientation='v',\n",
    "        yanchor='top',\n",
    "        y=0.98,\n",
    "        xanchor='right',\n",
    "        x=0.98,\n",
    "        font=dict(size=12),\n",
    "        bgcolor='rgba(255, 255, 255, 0.8)',\n",
    "        bordercolor='lightgray',\n",
    "        borderwidth=1\n",
    "    ),\n",
    "    hovermode='x unified',\n",
    "    template='plotly_white',\n",
    "    width=1000,\n",
    "    height=600,\n",
    "    font=dict(size=12)\n",
    ")\n",
    "\n",
    "# Show plot\n",
    "fig.show()\n",
    "\n",
    "# Optional: Save to HTML\n",
    "# fig.write_html(\"model_winrate_comparison.html\")\n",
    "# print(\"Plot saved to: model_winrate_comparison.html\")"
   ]
  },
  {
   "cell_type": "markdown",
   "id": "16c81dc4",
   "metadata": {},
   "source": [
    "# Table"
   ]
  },
  {
   "cell_type": "code",
   "execution_count": 7,
   "id": "87d76bd5",
   "metadata": {},
   "outputs": [
    {
     "name": "stdout",
     "output_type": "stream",
     "text": [
      "\\begin{table}[htbp]\n",
      "\\centering\n",
      "\\caption{Model Winrate (\\%) across Different Temperatures}\n",
      "\\label{tab:winrate}\n",
      "\\begin{tabular}{l|cccc}\n",
      "\\toprule\n",
      "\\textbf{Model} & \\textbf{T=0.25} & \\textbf{T=0.5} & \\textbf{T=0.75} & \\textbf{T=1.0} \\\\\n",
      "\\midrule\n",
      "Base & 22.00 & 27.33 & 29.33 & 29.33 \\\\\n",
      "SFT & 29.33 & 34.00 & 46.67 & 46.00 \\\\\n",
      "DPO & 25.33 & 64.00 & 52.67 & 58.00 \\\\\n",
      "\\bottomrule\n",
      "\\end{tabular}\n",
      "\\end{table}\n",
      "\n"
     ]
    }
   ],
   "source": [
    "from collections import defaultdict\n",
    "\n",
    "# Organize data by model and temperature\n",
    "model_data = defaultdict(dict)\n",
    "temperatures = set()\n",
    "\n",
    "for key, values in data.items():\n",
    "    # Extract model type\n",
    "    if 'base' in key:\n",
    "        model_type = 'Base'\n",
    "    elif 'dpo' in key:\n",
    "        model_type = 'DPO'\n",
    "    elif 'sft' in key:\n",
    "        model_type = 'SFT'\n",
    "    else:\n",
    "        continue\n",
    "    \n",
    "    temp = values['temperature']\n",
    "    winrate = values['winrate']\n",
    "    \n",
    "    model_data[model_type][temp] = winrate\n",
    "    temperatures.add(temp)\n",
    "\n",
    "# Sort temperatures\n",
    "temperatures = sorted(temperatures)\n",
    "\n",
    "# Model order\n",
    "model_order = ['Base', 'SFT', 'DPO']\n",
    "\n",
    "# Generate LaTeX table\n",
    "latex_code = r\"\"\"\\begin{table}[htbp]\n",
    "\\centering\n",
    "\\caption{Model Winrate (\\%) across Different Temperatures}\n",
    "\\label{tab:winrate}\n",
    "\\begin{tabular}{l|cccc}\n",
    "\\toprule\n",
    "\\textbf{Model} & \\textbf{T=0.25} & \\textbf{T=0.5} & \\textbf{T=0.75} & \\textbf{T=1.0} \\\\\n",
    "\\midrule\n",
    "\"\"\"\n",
    "\n",
    "for model in model_order:\n",
    "    if model not in model_data:\n",
    "        continue\n",
    "    \n",
    "    row = f\"{model}\"\n",
    "    for temp in temperatures:\n",
    "        if temp in model_data[model]:\n",
    "            winrate = model_data[model][temp]\n",
    "            row += f\" & {winrate:.2f}\"\n",
    "        else:\n",
    "            row += \" & --\"\n",
    "    row += \" \\\\\\\\\\n\"\n",
    "    latex_code += row\n",
    "\n",
    "latex_code += r\"\"\"\\bottomrule\n",
    "\\end{tabular}\n",
    "\\end{table}\n",
    "\"\"\"\n",
    "\n",
    "print(latex_code)\n",
    "\n",
    "# Save to file\n",
    "# with open(\"winrate_table.tex\", \"w\") as f:\n",
    "#     f.write(latex_code)\n",
    "\n",
    "# print(\"\\nLaTeX table saved to: winrate_table.tex\")"
   ]
  },
  {
   "cell_type": "code",
   "execution_count": null,
   "id": "40dfefe8",
   "metadata": {},
   "outputs": [],
   "source": []
  }
 ],
 "metadata": {
  "kernelspec": {
   "display_name": "dpo-replication",
   "language": "python",
   "name": "python3"
  },
  "language_info": {
   "codemirror_mode": {
    "name": "ipython",
    "version": 3
   },
   "file_extension": ".py",
   "mimetype": "text/x-python",
   "name": "python",
   "nbconvert_exporter": "python",
   "pygments_lexer": "ipython3",
   "version": "3.12.3"
  }
 },
 "nbformat": 4,
 "nbformat_minor": 5
}
